{
 "cells": [
  {
   "cell_type": "code",
   "execution_count": 49,
   "metadata": {},
   "outputs": [],
   "source": [
    "@enum Colors RED GREEN BLUE\n",
    "mutable struct Variable\n",
    "    name::AbstractString\n",
    "    domain::Array{Any,1}\n",
    "    edges::Array{Any,1}\n",
    "end"
   ]
  },
  {
   "cell_type": "code",
   "execution_count": 50,
   "metadata": {},
   "outputs": [
    {
     "data": {
      "text/plain": [
       "clean_node_domain (generic function with 1 method)"
      ]
     },
     "execution_count": 50,
     "metadata": {},
     "output_type": "execute_result"
    }
   ],
   "source": [
    "# Remove color from the neigbours/edges\n",
    "function domain_wipeout(color, node)\n",
    "    for i in 1:size(node.edges)[1]\n",
    "        deleteat!(node.edges[i].domain, findall(x->x==color,node.edges[i].domain))\n",
    "    end\n",
    "end\n",
    "# Removes all matches of value from list\n",
    "function clean_node_domain(the_list, val)\n",
    "    deleteat!(the_list, findall(x->x==val,the_list))\n",
    "end"
   ]
  },
  {
   "cell_type": "code",
   "execution_count": 53,
   "metadata": {},
   "outputs": [
    {
     "name": "stdout",
     "output_type": "stream",
     "text": [
      "South Australia -> RED\n",
      "Western Australia -> GREEN\n",
      "Northern Territories -> BLUE\n",
      "Queensland -> GREEN\n",
      "New South Wales -> BLUE\n",
      "Victoria -> GREEN\n",
      "Tasmania -> RED\n"
     ]
    }
   ],
   "source": [
    "WA = Variable(\"Western Australia\", [RED, GREEN, BLUE], [])\n",
    "NT = Variable(\"Northern Territories\", [RED, GREEN, BLUE], [])\n",
    "SA = Variable(\"South Australia\", [RED, GREEN, BLUE], [])\n",
    "Q = Variable(\"Queensland\", [RED, GREEN, BLUE], [])\n",
    "NSW = Variable(\"New South Wales\", [RED, GREEN, BLUE], [])\n",
    "V = Variable(\"Victoria\", [RED, GREEN, BLUE], [])\n",
    "T = Variable(\"Tasmania\", [RED, GREEN, BLUE], [])\n",
    "\n",
    "# Set the neighbours/edges\n",
    "WA.edges = [NT, SA]\n",
    "NT.edges = [WA, SA, Q]\n",
    "SA.edges = [WA, NT, Q, NSW, V]\n",
    "Q.edges = [NT, SA, NSW]\n",
    "NSW.edges = [Q, SA, V]\n",
    "V.edges = [SA, NSW, T]\n",
    "T.edges = [V]\n",
    "# Using SA as starting point\n",
    "search_tree = [SA, WA, NT, Q, NSW, V, T]\n",
    "\n",
    "for node_index in 1:size(search_tree)[1]\n",
    "    node = search_tree[node_index]\n",
    "    # Select the color (defaults to RED as initial)\n",
    "    c = node.domain[1]\n",
    "    # Eliminate color from edges\n",
    "    domain_wipeout(c, node)\n",
    "    \n",
    "    # Remove other colors from current node for this branch\n",
    "    # So if current node color is RED, reduce domain to [RED]\n",
    "    for _c_index in 1:size(node.domain)[1]-1\n",
    "        _c = node.domain[_c_index]\n",
    "        \n",
    "        if _c != c\n",
    "            clean_node_domain(node.domain, _c)\n",
    "        end\n",
    "    end\n",
    "    println(node.name, \" -> \", node.domain[1])\n",
    "end"
   ]
  }
 ],
 "metadata": {
  "kernelspec": {
   "display_name": "Julia 1.0.5",
   "language": "julia",
   "name": "julia-1.0"
  },
  "language_info": {
   "file_extension": ".jl",
   "mimetype": "application/julia",
   "name": "julia",
   "version": "1.0.5"
  }
 },
 "nbformat": 4,
 "nbformat_minor": 2
}