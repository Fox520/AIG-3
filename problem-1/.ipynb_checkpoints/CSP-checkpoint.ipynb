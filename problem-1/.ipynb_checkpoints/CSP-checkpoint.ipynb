{
 "cells": [
  {
   "cell_type": "code",
   "execution_count": 6,
   "metadata": {},
   "outputs": [
    {
     "data": {
      "text/plain": [
       "input_special (generic function with 2 methods)"
      ]
     },
     "execution_count": 6,
     "metadata": {},
     "output_type": "execute_result"
    }
   ],
   "source": [
    "function input(prompt::AbstractString=\"\")\n",
    "    print(prompt)\n",
    "    return parse(Int64, chomp(readline()))\n",
    "end\n",
    "\n",
    "function raw_input(prompt::AbstractString=\"\")\n",
    "    print(prompt)\n",
    "    return chomp(readline())\n",
    "end\n",
    "\n",
    "function input_special(prompt::AbstractString=\"\")\n",
    "    print(prompt)\n",
    "    s = split(chomp(readline()), \",\")\n",
    "    return parse.(Int64, s)\n",
    "end"
   ]
  },
  {
   "cell_type": "code",
   "execution_count": null,
   "metadata": {},
   "outputs": [],
   "source": [
    "# Remove domain from the neigbours/edges\n",
    "function domain_wipeout(domain, node)\n",
    "    for i in 1:size(node.edges)[1]\n",
    "        deleteat!(node.edges[i].domain, findall(x->x==domain,node.edges[i].domain))\n",
    "    end\n",
    "end\n",
    "# Removes all matches of value from list\n",
    "function clean_node_domain(the_list, val)\n",
    "    deleteat!(the_list, findall(x->x==val,the_list))\n",
    "end"
   ]
  },
  {
   "cell_type": "code",
   "execution_count": 3,
   "metadata": {},
   "outputs": [],
   "source": [
    "mutable struct Variable\n",
    "    name::AbstractString\n",
    "    domain::Array{Any,1}\n",
    "    constraints::Array{Any,1}\n",
    "    edges::Array{Any,1}\n",
    "end"
   ]
  },
  {
   "cell_type": "code",
   "execution_count": 14,
   "metadata": {
    "collapsed": true
   },
   "outputs": [
    {
     "name": "stdout",
     "output_type": "stream",
     "text": [
      "Enter number of variables: stdin> 3\n",
      "Give state 1 a name:stdin> North\n",
      "Give state 2 a name:stdin> South\n",
      "Give state 3 a name:stdin> West\n"
     ]
    }
   ],
   "source": [
    "variables = []\n",
    "num_iterations = input(\"Enter number of variables: \")\n",
    "# comma separated\n",
    "ds = input_special(\"Enter domain for network: \")\n",
    "for i in 1:num_iterations\n",
    "    n = raw_input(\"Give state $i a name:\")\n",
    "    cs = input_special(\"Enter constraints for $n: \")\n",
    "    push!(variables, Variable(n, ds, cs, []))\n",
    "end"
   ]
  },
  {
   "cell_type": "code",
   "execution_count": 15,
   "metadata": {},
   "outputs": [
    {
     "data": {
      "text/plain": [
       "clean_node_domain (generic function with 1 method)"
      ]
     },
     "execution_count": 15,
     "metadata": {},
     "output_type": "execute_result"
    }
   ],
   "source": []
  },
  {
   "cell_type": "code",
   "execution_count": 34,
   "metadata": {
    "collapsed": true
   },
   "outputs": [
    {
     "name": "stdout",
     "output_type": "stream",
     "text": [
      "index 1 is North\n",
      "index 2 is South\n",
      "index 3 is West\n",
      "Enter index of edges to North: stdin> 2\n",
      "Any[Variable(\"North\", Any[\"RED\", \"GREEN\", \"BLUE\"], Any[\"!=\", \"<\"], Any[Variable(#= circular reference @-2 =#)]), Variable(\"South\", Any[\"RED\", \"GREEN\", \"BLUE\"], Any[\"!=\", \"<\"], Any[]), Variable(\"West\", Any[\"RED\", \"GREEN\", \"BLUE\"], Any[\"!=\", \"<\"], Any[])]\n",
      "Enter index of edges to South: stdin> 1,3\n",
      "Any[Variable(\"North\", Any[\"RED\", \"GREEN\", \"BLUE\"], Any[\"!=\", \"<\"], Any[Variable(#= circular reference @-2 =#)]), Variable(\"South\", Any[\"RED\", \"GREEN\", \"BLUE\"], Any[\"!=\", \"<\"], Any[Variable(\"North\", Any[\"RED\", \"GREEN\", \"BLUE\"], Any[\"!=\", \"<\"], Any[Variable(#= circular reference @-2 =#)]), Variable(#= circular reference @-2 =#)]), Variable(\"West\", Any[\"RED\", \"GREEN\", \"BLUE\"], Any[\"!=\", \"<\"], Any[])]\n",
      "Enter index of edges to West: stdin> 2\n",
      "Any[Variable(\"North\", Any[\"RED\", \"GREEN\", \"BLUE\"], Any[\"!=\", \"<\"], Any[Variable(#= circular reference @-2 =#)]), Variable(\"South\", Any[\"RED\", \"GREEN\", \"BLUE\"], Any[\"!=\", \"<\"], Any[Variable(\"North\", Any[\"RED\", \"GREEN\", \"BLUE\"], Any[\"!=\", \"<\"], Any[Variable(#= circular reference @-2 =#)]), Variable(#= circular reference @-2 =#)]), Variable(\"West\", Any[\"RED\", \"GREEN\", \"BLUE\"], Any[\"!=\", \"<\"], Any[Variable(\"North\", Any[\"RED\", \"GREEN\", \"BLUE\"], Any[\"!=\", \"<\"], Any[Variable(#= circular reference @-2 =#)])])]\n"
     ]
    }
   ],
   "source": [
    "# Pretty display\n",
    "for i in 1:size(variables)[1]\n",
    "    println(\"index $i is \",variables[i].name)\n",
    "end\n",
    "# Get edges\n",
    "for i in 1:size(variables)[1]\n",
    "    # comma separated\n",
    "    n = variables[i].name\n",
    "    indices = input_special(\"Enter index of edges to $n: \")\n",
    "    for j in 1:size(indices)[1]\n",
    "        # Set the edges\n",
    "        push!(variables[i].edges, variables[j])\n",
    "    end\n",
    "    println(variables)\n",
    "end\n"
   ]
  },
  {
   "cell_type": "code",
   "execution_count": 36,
   "metadata": {},
   "outputs": [
    {
     "data": {
      "text/plain": [
       "constraint_check (generic function with 1 method)"
      ]
     },
     "execution_count": 36,
     "metadata": {},
     "output_type": "execute_result"
    }
   ],
   "source": [
    "function constraint_check(domain, compare_domain, constraints)\n",
    "    # Compare the domain to comapre_domain using the constraints, return true if all pass\n",
    "    for i in 1:size(constraints)[1]\n",
    "        if constraints[i] == \"!=\"\n",
    "            if !(domain != compare_domain)\n",
    "                return false\n",
    "            end\n",
    "        elseif constraints[i] == \"==\"\n",
    "            if !(domain == compare_domain)\n",
    "                return false\n",
    "            end\n",
    "        elseif constraints[i] == \"<=\"\n",
    "            if !(domain <= compare_domain)\n",
    "                return false\n",
    "            end\n",
    "        elseif constraints[i] == \">=\"\n",
    "            if !(domain >= compare_domain)\n",
    "                return false\n",
    "            end\n",
    "        end\n",
    "    end\n",
    "    return true\n",
    "end"
   ]
  },
  {
   "cell_type": "code",
   "execution_count": 43,
   "metadata": {},
   "outputs": [
    {
     "ename": "BoundsError",
     "evalue": "BoundsError: attempt to access 0-element Array{Any,1} at index [1]",
     "output_type": "error",
     "traceback": [
      "BoundsError: attempt to access 0-element Array{Any,1} at index [1]",
      "",
      "Stacktrace:",
      " [1] getindex(::Array{Any,1}, ::Int64) at .\\array.jl:731",
      " [2] top-level scope at .\\In[43]:6"
     ]
    }
   ],
   "source": [
    "search_tree = variables\n",
    "\n",
    "for node_index in 1:size(search_tree)[1]\n",
    "    node = search_tree[node_index]\n",
    "    # Select the domain (defaults to index 1 as initial)\n",
    "    c = node.domain[1]\n",
    "    # Eliminate domain from edges\n",
    "    domain_wipeout(c, node)\n",
    "    \n",
    "    # Remove other domains from current node for this branch\n",
    "    # e.g. if current node main domain is RED, reduce domain to [RED]\n",
    "    for _c_index in 1:size(node.domain)[1]-1\n",
    "        _c = node.domain[_c_index]\n",
    "        \n",
    "        if constraint_check(_c, c, node.constraints) == true\n",
    "            clean_node_domain(node.domain, _c)\n",
    "        end\n",
    "    end\n",
    "    println(node.name, \" -> \", node.domain[1])\n",
    "end"
   ]
  },
  {
   "cell_type": "code",
   "execution_count": null,
   "metadata": {},
   "outputs": [],
   "source": [
    "\n"
   ]
  }
 ],
 "metadata": {
  "kernelspec": {
   "display_name": "Julia 1.0.5",
   "language": "julia",
   "name": "julia-1.0"
  },
  "language_info": {
   "file_extension": ".jl",
   "mimetype": "application/julia",
   "name": "julia",
   "version": "1.0.5"
  }
 },
 "nbformat": 4,
 "nbformat_minor": 2
}
