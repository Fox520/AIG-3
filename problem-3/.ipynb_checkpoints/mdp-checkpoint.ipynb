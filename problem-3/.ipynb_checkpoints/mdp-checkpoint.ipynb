{
 "cells": [
  {
   "cell_type": "code",
   "execution_count": 1,
   "metadata": {},
   "outputs": [],
   "source": [
    "mutable struct State\n",
    "    utility::Float64\n",
    "    reward::Float64\n",
    "    transitions::Array{Any,1}\n",
    "end"
   ]
  },
  {
   "cell_type": "code",
   "execution_count": 68,
   "metadata": {
    "collapsed": true
   },
   "outputs": [
    {
     "data": {
      "text/plain": [
       "input_special (generic function with 2 methods)"
      ]
     },
     "execution_count": 68,
     "metadata": {},
     "output_type": "execute_result"
    }
   ],
   "source": [
    "function input(prompt::AbstractString=\"\")\n",
    "    print(prompt)\n",
    "    return parse(Int64, chomp(readline()))\n",
    "end\n",
    "function input_float(prompt::AbstractString=\"\")\n",
    "    print(prompt)\n",
    "    return parse(Float64, chomp(readline()))\n",
    "end\n",
    "function input_special(prompt::AbstractString=\"\")\n",
    "    print(prompt)\n",
    "    s = split(chomp(readline()), \",\")\n",
    "    return parse.(Int64, s)\n",
    "end"
   ]
  },
  {
   "cell_type": "code",
   "execution_count": 71,
   "metadata": {},
   "outputs": [
    {
     "name": "stdout",
     "output_type": "stream",
     "text": [
      "1 => State(0.0, 3.0, Any[])\n",
      "2 => State(0.0, 3.0, Any[])\n",
      "Collecting transitions\n",
      "Current state => 1\n",
      "Enter index of state to transition: stdin> 2\n",
      "Enter probability of transition: stdin> 1.0\n",
      "Add another transition? [1 or 0]stdin> 1\n",
      "Current state => 1\n",
      "Enter index of state to transition: stdin> 1\n",
      "Enter probability of transition: stdin> 0.5\n",
      "Add another transition? [1 or 0]stdin> 1\n",
      "Current state => 1\n",
      "Enter index of state to transition: stdin> 2\n",
      "Enter probability of transition: stdin> 0.5\n",
      "Add another transition? [1 or 0]stdin> 0\n",
      "Current state => 2\n",
      "Enter index of state to transition: stdin> 1\n",
      "Enter probability of transition: stdin> 1.0\n",
      "Add another transition? [1 or 0]stdin> 1\n",
      "Current state => 2\n",
      "Enter index of state to transition: stdin> 2\n",
      "Enter probability of transition: stdin> 1.0\n",
      "Add another transition? [1 or 0]stdin> 0\n"
     ]
    }
   ],
   "source": [
    "# We wish to model this problem as an MDP and consider a discount value σ. Write a program\n",
    "# in Julia that accepts as input the description of the MDP, including its parameters (e.g., reward\n",
    "# value for each state, discount and probability distribution for each transition model). The program\n",
    "# will return the optimal policy using the value iteration algorithm.\n",
    "max_error = 0.001\n",
    "DISCOUNT = input_float(\"Enter discount:\")\n",
    "all_states = []\n",
    "for i in 1:input(\"Enter number of states: \")\n",
    "#     push!(all_states, State(0, 3, []))\n",
    "    push!(all_states, State(0, input(\"Enter reward for state $i: \"), []))\n",
    "end\n",
    "println(\"----------Collecting transitions--------\")\n",
    "\n",
    "# Display the states with index\n",
    "for i in 1:size(all_states)[1]\n",
    "    println(i, \" => \",all_states[i])\n",
    "end\n",
    "println(\"----------------------------------------\")\n",
    "# Get the transitions\n",
    "for i in 1:size(all_states)[1]\n",
    "    while true\n",
    "        println(\"Current state => $i\")\n",
    "        ti = input(\"Enter index of state to transition: \")\n",
    "        p = input_float(\"Enter probability of transition: \")\n",
    "        push!(all_states[i].transitions, [all_states[ti], p])\n",
    "        if(input(\"Add another transition? [1 or 0]\") == 0)\n",
    "            break\n",
    "        end\n",
    "    end\n",
    "    println()\n",
    "end\n"
   ]
  },
  {
   "cell_type": "code",
   "execution_count": 82,
   "metadata": {},
   "outputs": [
    {
     "data": {
      "text/plain": [
       "2-element Array{Any,1}:\n",
       " State(0.0, -1.0, Any[])                                                                                                                                                                  \n",
       " State(0.0, -1.0, Any[Any[State(0.0, -1.0, Any[]), 1.0], Any[State(#= circular reference @-3 =#), 1.0], Any[State(0.0, -1.0, Any[]), 1.0], Any[State(#= circular reference @-3 =#), 1.0]])"
      ]
     },
     "execution_count": 82,
     "metadata": {},
     "output_type": "execute_result"
    }
   ],
   "source": []
  },
  {
   "cell_type": "code",
   "execution_count": 81,
   "metadata": {},
   "outputs": [
    {
     "ename": "BoundsError",
     "evalue": "BoundsError: attempt to access 0-element Array{Any,1} at index [1]",
     "output_type": "error",
     "traceback": [
      "BoundsError: attempt to access 0-element Array{Any,1} at index [1]",
      "",
      "Stacktrace:",
      " [1] getindex at .\\array.jl:731 [inlined]",
      " [2] get_max_transitions(::Array{Any,1}) at .\\In[81]:22",
      " [3] top-level scope at .\\In[81]:47"
     ]
    }
   ],
   "source": [
    "# s1 = State(0, 3, [])\n",
    "# s2 = State(0, -1, [])\n",
    "\n",
    "# push!(s1.transitions, [s2, 1.0])\n",
    "# push!(s1.transitions, [s1, 0.5])\n",
    "# push!(s1.transitions, [s2, 0.5])\n",
    "\n",
    "# push!(s2.transitions, [s1, 1.0])\n",
    "# push!(s2.transitions, [s2, 1.0])\n",
    "\n",
    "states = all_states #[s1, s2]\n",
    "function get_max_transitions(transitions)\n",
    "    results = []\n",
    "    if size(transitions)[1] > 1\n",
    "        # Just to be sure that not only one transition/action is present\n",
    "        for i in 2:size(transitions)[1]\n",
    "            push!(results, transitions[i][2] * transitions[i][1].utility)\n",
    "        end\n",
    "    end\n",
    "    return max(transitions[1][2] * transitions[1][1].utility, sum(results))\n",
    "end\n",
    "\n",
    "function value_iteration(state, previous_utility)\n",
    "    if abs(state.utility - previous_utility)  == 0#< max_error * (1 - DISCOUNT) / DISCOUNT\n",
    "        println(\"Converge \", state.utility,\" \", previous_utility)\n",
    "        return state\n",
    "    end\n",
    "    previous_utility = state.utility\n",
    "    # U(s) <- reward + beta * max(P*utilityOftransState)\n",
    "    state.utility = state.reward + DISCOUNT * get_max_transitions(state.transitions)\n",
    "    println(\"Current utility => \",state.utility, \" Previous => \",previous_utility)\n",
    "    return value_iteration(state, previous_utility)\n",
    "end\n",
    "\n",
    "iteration_count = 0\n",
    "while true\n",
    "    # Julia wants these initialised\n",
    "    delta = 0\n",
    "    current_state = undef\n",
    "    previous_utility = 0\n",
    "    for i in 1:size(states)[1]\n",
    "        current_state = states[i]\n",
    "        previous_utility = current_state.utility\n",
    "        # U(s) <- reward + beta * max(P*utilityOftransState) <- for all transitions of this state \n",
    "        current_state.utility = current_state.reward + DISCOUNT * get_max_transitions(current_state.transitions)\n",
    "        println(\"Current utility => \",current_state.utility, \" Previous => \",previous_utility)\n",
    "        delta = abs(current_state.utility - previous_utility)\n",
    "    end\n",
    "    iteration_count += 1\n",
    "    println(\"Iteration: \", iteration_count)\n",
    "    if delta < max_error * (1 - DISCOUNT) / DISCOUNT\n",
    "        println(\"Converge \", current_state.utility,\" \", previous_utility)\n",
    "        break\n",
    "    end\n",
    "end\n",
    "for i in 1:size(states)[1]\n",
    "    println(states[i].utility)\n",
    "end"
   ]
  }
 ],
 "metadata": {
  "kernelspec": {
   "display_name": "Julia 1.0.5",
   "language": "julia",
   "name": "julia-1.0"
  },
  "language_info": {
   "file_extension": ".jl",
   "mimetype": "application/julia",
   "name": "julia",
   "version": "1.0.5"
  }
 },
 "nbformat": 4,
 "nbformat_minor": 4
}
